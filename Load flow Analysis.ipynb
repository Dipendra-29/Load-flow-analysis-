{
 "cells": [
  {
   "cell_type": "markdown",
   "id": "76b991f4",
   "metadata": {},
   "source": [
    "## PyPSA power flow"
   ]
  },
  {
   "cell_type": "markdown",
   "id": "0b6ab007",
   "metadata": {},
   "source": [
    "### Imports and Warnings Configuration"
   ]
  },
  {
   "cell_type": "code",
   "execution_count": 7,
   "id": "8105d594",
   "metadata": {},
   "outputs": [],
   "source": [
    "import pypsa\n",
    "import numpy as np\n",
    "\n",
    "import warnings\n",
    "warnings.filterwarnings('ignore')"
   ]
  },
  {
   "cell_type": "markdown",
   "id": "f890d3f0",
   "metadata": {},
   "source": [
    "### Network Initialization and Bus Creation"
   ]
  },
  {
   "cell_type": "code",
   "execution_count": 8,
   "id": "231c289b",
   "metadata": {},
   "outputs": [
    {
     "name": "stdout",
     "output_type": "stream",
     "text": [
      "attribute  v_nom type    x    y carrier unit  v_mag_pu_set  v_mag_pu_min  \\\n",
      "Bus                                                                        \n",
      "My bus 0    20.0       0.0  0.0      AC                1.0           0.0   \n",
      "My bus 1    20.0       0.0  0.0      AC                1.0           0.0   \n",
      "My bus 2    20.0       0.0  0.0      AC                1.0           0.0   \n",
      "\n",
      "attribute  v_mag_pu_max control generator sub_network  \n",
      "Bus                                                    \n",
      "My bus 0            inf      PQ                        \n",
      "My bus 1            inf      PQ                        \n",
      "My bus 2            inf      PQ                        \n"
     ]
    }
   ],
   "source": [
    "network = pypsa.Network()\n",
    "\n",
    "n_buses = 3\n",
    "\n",
    "for i in range(n_buses):\n",
    "    network.add(\"Bus\", \"My bus {}\".format(i), v_nom=20.)\n",
    "\n",
    "print(network.buses)"
   ]
  },
  {
   "cell_type": "markdown",
   "id": "fc5d37ff",
   "metadata": {},
   "source": [
    "### Line Creation"
   ]
  },
  {
   "cell_type": "code",
   "execution_count": 9,
   "id": "f722a7d4",
   "metadata": {},
   "outputs": [
    {
     "name": "stdout",
     "output_type": "stream",
     "text": [
      "attribute      bus0      bus1 type    x     r    g    b  s_nom  s_nom_mod  \\\n",
      "Line                                                                        \n",
      "My line 0  My bus 0  My bus 1       0.1  0.01  0.0  0.0    0.0        0.0   \n",
      "My line 1  My bus 1  My bus 2       0.1  0.01  0.0  0.0    0.0        0.0   \n",
      "My line 2  My bus 2  My bus 0       0.1  0.01  0.0  0.0    0.0        0.0   \n",
      "\n",
      "attribute  s_nom_extendable  ...  v_ang_min  v_ang_max  sub_network  x_pu  \\\n",
      "Line                         ...                                            \n",
      "My line 0             False  ...       -inf        inf                0.0   \n",
      "My line 1             False  ...       -inf        inf                0.0   \n",
      "My line 2             False  ...       -inf        inf                0.0   \n",
      "\n",
      "attribute  r_pu  g_pu  b_pu x_pu_eff  r_pu_eff  s_nom_opt  \n",
      "Line                                                       \n",
      "My line 0   0.0   0.0   0.0      0.0       0.0        0.0  \n",
      "My line 1   0.0   0.0   0.0      0.0       0.0        0.0  \n",
      "My line 2   0.0   0.0   0.0      0.0       0.0        0.0  \n",
      "\n",
      "[3 rows x 30 columns]\n"
     ]
    }
   ],
   "source": [
    "for i in range(n_buses):\n",
    "    network.add(\"Line\", \"My line {}\".format(i),\n",
    "               bus0=\"My bus {}\".format(i),\n",
    "               bus1=\"My bus {}\".format((i+1) % n_buses),\n",
    "               x=0.1, \n",
    "               r=0.01)\n",
    "\n",
    "print(network.lines)"
   ]
  },
  {
   "cell_type": "markdown",
   "id": "abbcdc1a",
   "metadata": {},
   "source": [
    "### Generator Creation"
   ]
  },
  {
   "cell_type": "code",
   "execution_count": 10,
   "id": "702a619b",
   "metadata": {},
   "outputs": [
    {
     "name": "stdout",
     "output_type": "stream",
     "text": [
      "attribute       bus control type  p_nom  p_nom_mod  p_nom_extendable  \\\n",
      "Generator                                                              \n",
      "My gen     My bus 0      PQ         0.0        0.0             False   \n",
      "\n",
      "attribute  p_nom_min  p_nom_max  p_min_pu  p_max_pu  ...  min_up_time  \\\n",
      "Generator                                            ...                \n",
      "My gen           0.0        inf       0.0       1.0  ...            0   \n",
      "\n",
      "attribute  min_down_time  up_time_before down_time_before  ramp_limit_up  \\\n",
      "Generator                                                                  \n",
      "My gen                 0               1                0            NaN   \n",
      "\n",
      "attribute  ramp_limit_down  ramp_limit_start_up  ramp_limit_shut_down  weight  \\\n",
      "Generator                                                                       \n",
      "My gen                 NaN                  1.0                   1.0     1.0   \n",
      "\n",
      "attribute  p_nom_opt  \n",
      "Generator             \n",
      "My gen           0.0  \n",
      "\n",
      "[1 rows x 34 columns]\n",
      "\n",
      "Generator\n",
      "My gen    100.0\n",
      "Name: p_set, dtype: float64\n"
     ]
    }
   ],
   "source": [
    "if \"My gen\" in network.generators.index:\n",
    "    network.remove(\"Generator\", \"My gen\")\n",
    "\n",
    "network.add(\"Generator\", \"My gen\",\n",
    "            bus=\"My bus 0\",\n",
    "            p_set=100,  \n",
    "            control=\"PQ\")  \n",
    "\n",
    "print(network.generators)\n",
    "print()\n",
    "print(network.generators.p_set)"
   ]
  },
  {
   "cell_type": "markdown",
   "id": "4bc57f01",
   "metadata": {},
   "source": [
    "### Load Creation"
   ]
  },
  {
   "cell_type": "code",
   "execution_count": 12,
   "id": "1b92dff1",
   "metadata": {},
   "outputs": [
    {
     "name": "stdout",
     "output_type": "stream",
     "text": [
      "attribute       bus carrier type  p_set  q_set  sign\n",
      "Load                                                \n",
      "My load 0  My bus 0                50.0    0.0  -1.0\n",
      "My load 1  My bus 1                50.0    0.0  -1.0\n",
      "My load 2  My bus 2                50.0    0.0  -1.0\n"
     ]
    }
   ],
   "source": [
    "for i in range(n_buses):\n",
    "    network.add(\"Load\", \"My load {}\".format(i),\n",
    "                bus=\"My bus {}\".format(i),\n",
    "                p_set=50)  # Add a load of 50 MW to each bus\n",
    "\n",
    "print(network.loads)"
   ]
  },
  {
   "cell_type": "markdown",
   "id": "85dc8780",
   "metadata": {},
   "source": [
    "## Newton - Raphson Power Flow\n",
    "In the Newton-Raphson power flow we use Newton's Method to determine the voltage magnitude and angle at. each bus in the power system that satisfies power balance\n",
    "\n",
    "The Objective of a power flow study is to calculate the voltage (magnitude and angle) for a given load, generation, and network condition. Once voltages are known for all buses, line flows and losses can be calculated  "
   ]
  },
  {
   "cell_type": "markdown",
   "id": "59c31102",
   "metadata": {},
   "source": [
    "### Performing Power Flow Calculation and Printing Results"
   ]
  },
  {
   "cell_type": "code",
   "execution_count": 13,
   "id": "949c7e75",
   "metadata": {},
   "outputs": [
    {
     "name": "stderr",
     "output_type": "stream",
     "text": [
      "INFO:pypsa.pf:Performing non-linear load-flow on AC sub-network SubNetwork 0 for snapshots Index(['now'], dtype='object', name='snapshot')\n",
      "INFO:pypsa.pf:Newton-Raphson solved in 3 iterations with error of 0.000000 in 0.124919 seconds\n"
     ]
    },
    {
     "name": "stdout",
     "output_type": "stream",
     "text": [
      "Active Power for lines (p0):\n",
      "          My line 0     My line 1  My line 2\n",
      "snapshot                                    \n",
      "now       50.062667 -5.676337e-14      -50.0\n",
      "\n",
      "Voltage Angles for buses (degrees):\n",
      "Bus       My bus 0  My bus 1  My bus 2\n",
      "snapshot                              \n",
      "now            0.0  -0.71717  -0.71717\n",
      "\n",
      "Voltage Magnitudes for buses (pu):\n",
      "Bus       My bus 0  My bus 1  My bus 2\n",
      "snapshot                              \n",
      "now            1.0   0.99867   0.99867\n"
     ]
    }
   ],
   "source": [
    "network.pf()\n",
    "\n",
    "print(\"Active Power for lines (p0):\")\n",
    "print(network.lines_t.p0)\n",
    "print()\n",
    "print(\"Voltage Angles for buses (degrees):\")\n",
    "print(network.buses_t.v_ang * 180 / np.pi)\n",
    "print()\n",
    "print(\"Voltage Magnitudes for buses (pu):\")\n",
    "print(network.buses_t.v_mag_pu)"
   ]
  }
 ],
 "metadata": {
  "kernelspec": {
   "display_name": "Python 3 (ipykernel)",
   "language": "python",
   "name": "python3"
  },
  "language_info": {
   "codemirror_mode": {
    "name": "ipython",
    "version": 3
   },
   "file_extension": ".py",
   "mimetype": "text/x-python",
   "name": "python",
   "nbconvert_exporter": "python",
   "pygments_lexer": "ipython3",
   "version": "3.11.3"
  }
 },
 "nbformat": 4,
 "nbformat_minor": 5
}
